{
 "cells": [
  {
   "cell_type": "code",
   "execution_count": 1,
   "id": "432f0df8-4783-4068-9476-e1dd5d7c57d5",
   "metadata": {},
   "outputs": [],
   "source": [
    "from pyspark.sql import SparkSession"
   ]
  },
  {
   "cell_type": "code",
   "execution_count": 2,
   "id": "d4cff10b-6928-48d9-a57d-f190d93d64c5",
   "metadata": {},
   "outputs": [
    {
     "name": "stdout",
     "output_type": "stream",
     "text": [
      "Session is created\n"
     ]
    }
   ],
   "source": [
    "# Step 1: Create Spark session\n",
    "spark = SparkSession.builder\\\n",
    "    .appName(\"Diabetes Health Indicators Analysis\")\\\n",
    "    .getOrCreate()\n",
    "print(\"Session is created\")"
   ]
  },
  {
   "cell_type": "code",
   "execution_count": 3,
   "id": "221670c4-d734-4264-aee0-e3520d44923c",
   "metadata": {},
   "outputs": [],
   "source": [
    "# Step 2: Load Dataset\n",
    "df = spark.read.csv(\"diabetes_binary_health_indicators_BRFSS2015.csv\", header=True, inferSchema=True)"
   ]
  },
  {
   "cell_type": "code",
   "execution_count": 4,
   "id": "301b37ea-9ded-474e-be17-e797b8b80d6d",
   "metadata": {},
   "outputs": [
    {
     "name": "stdout",
     "output_type": "stream",
     "text": [
      "root\n",
      " |-- Diabetes_binary: double (nullable = true)\n",
      " |-- HighBP: double (nullable = true)\n",
      " |-- HighChol: double (nullable = true)\n",
      " |-- CholCheck: double (nullable = true)\n",
      " |-- BMI: double (nullable = true)\n",
      " |-- Smoker: double (nullable = true)\n",
      " |-- Stroke: double (nullable = true)\n",
      " |-- HeartDiseaseorAttack: double (nullable = true)\n",
      " |-- PhysActivity: double (nullable = true)\n",
      " |-- Fruits: double (nullable = true)\n",
      " |-- Veggies: double (nullable = true)\n",
      " |-- HvyAlcoholConsump: double (nullable = true)\n",
      " |-- AnyHealthcare: double (nullable = true)\n",
      " |-- NoDocbcCost: double (nullable = true)\n",
      " |-- GenHlth: double (nullable = true)\n",
      " |-- MentHlth: double (nullable = true)\n",
      " |-- PhysHlth: double (nullable = true)\n",
      " |-- DiffWalk: double (nullable = true)\n",
      " |-- Sex: double (nullable = true)\n",
      " |-- Age: double (nullable = true)\n",
      " |-- Education: double (nullable = true)\n",
      " |-- Income: double (nullable = true)\n",
      "\n"
     ]
    }
   ],
   "source": [
    "#Step 3: Explore Dataset\n",
    "df.printSchema()"
   ]
  },
  {
   "cell_type": "code",
   "execution_count": 5,
   "id": "8735170f-000a-49cb-98d4-110aaf3c5ff9",
   "metadata": {},
   "outputs": [
    {
     "name": "stdout",
     "output_type": "stream",
     "text": [
      "+---------------+------+--------+---------+----+------+------+--------------------+------------+------+-------+-----------------+-------------+-----------+-------+--------+--------+--------+---+----+---------+------+\n",
      "|Diabetes_binary|HighBP|HighChol|CholCheck| BMI|Smoker|Stroke|HeartDiseaseorAttack|PhysActivity|Fruits|Veggies|HvyAlcoholConsump|AnyHealthcare|NoDocbcCost|GenHlth|MentHlth|PhysHlth|DiffWalk|Sex| Age|Education|Income|\n",
      "+---------------+------+--------+---------+----+------+------+--------------------+------------+------+-------+-----------------+-------------+-----------+-------+--------+--------+--------+---+----+---------+------+\n",
      "|            0.0|   1.0|     1.0|      1.0|40.0|   1.0|   0.0|                 0.0|         0.0|   0.0|    1.0|              0.0|          1.0|        0.0|    5.0|    18.0|    15.0|     1.0|0.0| 9.0|      4.0|   3.0|\n",
      "|            0.0|   0.0|     0.0|      0.0|25.0|   1.0|   0.0|                 0.0|         1.0|   0.0|    0.0|              0.0|          0.0|        1.0|    3.0|     0.0|     0.0|     0.0|0.0| 7.0|      6.0|   1.0|\n",
      "|            0.0|   1.0|     1.0|      1.0|28.0|   0.0|   0.0|                 0.0|         0.0|   1.0|    0.0|              0.0|          1.0|        1.0|    5.0|    30.0|    30.0|     1.0|0.0| 9.0|      4.0|   8.0|\n",
      "|            0.0|   1.0|     0.0|      1.0|27.0|   0.0|   0.0|                 0.0|         1.0|   1.0|    1.0|              0.0|          1.0|        0.0|    2.0|     0.0|     0.0|     0.0|0.0|11.0|      3.0|   6.0|\n",
      "|            0.0|   1.0|     1.0|      1.0|24.0|   0.0|   0.0|                 0.0|         1.0|   1.0|    1.0|              0.0|          1.0|        0.0|    2.0|     3.0|     0.0|     0.0|0.0|11.0|      5.0|   4.0|\n",
      "+---------------+------+--------+---------+----+------+------+--------------------+------------+------+-------+-----------------+-------------+-----------+-------+--------+--------+--------+---+----+---------+------+\n",
      "only showing top 5 rows\n"
     ]
    }
   ],
   "source": [
    "df.show(5)"
   ]
  },
  {
   "cell_type": "code",
   "execution_count": 6,
   "id": "8cccc06d-d631-4c12-bbbd-7353b973cb50",
   "metadata": {},
   "outputs": [
    {
     "name": "stdout",
     "output_type": "stream",
     "text": [
      "Total Rows: 253680\n"
     ]
    }
   ],
   "source": [
    "print(\"Total Rows:\", df.count())"
   ]
  },
  {
   "cell_type": "code",
   "execution_count": 7,
   "id": "786c56f9-1feb-4209-80b7-a3735bc28e6c",
   "metadata": {},
   "outputs": [
    {
     "name": "stdout",
     "output_type": "stream",
     "text": [
      "+-------+-------------------+-------------------+-------------------+------------------+------------------+-------------------+-------------------+--------------------+------------------+------------------+------------------+-------------------+-------------------+-------------------+------------------+------------------+------------------+-------------------+------------------+-----------------+------------------+------------------+\n",
      "|summary|    Diabetes_binary|             HighBP|           HighChol|         CholCheck|               BMI|             Smoker|             Stroke|HeartDiseaseorAttack|      PhysActivity|            Fruits|           Veggies|  HvyAlcoholConsump|      AnyHealthcare|        NoDocbcCost|           GenHlth|          MentHlth|          PhysHlth|           DiffWalk|               Sex|              Age|         Education|            Income|\n",
      "+-------+-------------------+-------------------+-------------------+------------------+------------------+-------------------+-------------------+--------------------+------------------+------------------+------------------+-------------------+-------------------+-------------------+------------------+------------------+------------------+-------------------+------------------+-----------------+------------------+------------------+\n",
      "|  count|             253680|             253680|             253680|            253680|            253680|             253680|             253680|              253680|            253680|            253680|            253680|             253680|             253680|             253680|            253680|            253680|            253680|             253680|            253680|           253680|            253680|            253680|\n",
      "|   mean|0.13933301797540207| 0.4290011037527594| 0.4241209397666351|0.9626695048880479|28.382363607694735|0.44316855881425415|0.04057079785556607| 0.09418558814254178|0.7565436770734784|0.6342557552822453| 0.811419899085462|0.05619678334910123| 0.9510525070955534|0.08417691579943236|2.5113923052664773|3.1847721538946705|4.2420805739514345|0.16822374645222327|0.4403421633554084|8.032119205298013| 5.050433617155472| 6.053874960580258|\n",
      "| stddev| 0.3462943845892124|0.49493446268990066|0.49420980465688424|0.1895707543627253| 6.608694201406014|0.49676066677856395|0.19729409940016238| 0.29208731475075533|0.4291690433970453|0.4816391871704336|0.3911754716844905|0.23030178889522962|0.21575870631073923| 0.2776535008576244| 1.068477362280394| 7.412846696196171| 8.717951307175134| 0.3740655947328029|0.4964291631185059|3.054220434168481|0.9857741757276502|2.0711475662715193|\n",
      "|    min|                0.0|                0.0|                0.0|               0.0|              12.0|                0.0|                0.0|                 0.0|               0.0|               0.0|               0.0|                0.0|                0.0|                0.0|               1.0|               0.0|               0.0|                0.0|               0.0|              1.0|               1.0|               1.0|\n",
      "|    max|                1.0|                1.0|                1.0|               1.0|              98.0|                1.0|                1.0|                 1.0|               1.0|               1.0|               1.0|                1.0|                1.0|                1.0|               5.0|              30.0|              30.0|                1.0|               1.0|             13.0|               6.0|               8.0|\n",
      "+-------+-------------------+-------------------+-------------------+------------------+------------------+-------------------+-------------------+--------------------+------------------+------------------+------------------+-------------------+-------------------+-------------------+------------------+------------------+------------------+-------------------+------------------+-----------------+------------------+------------------+\n",
      "\n"
     ]
    }
   ],
   "source": [
    "#Step 4: Summary Statistics\n",
    "df.describe().show()\n",
    "\n",
    "summary_stats = df.describe()\n",
    "summary_stats.write.csv(\"Task_1_Outputs/Summary_Statistics.csv\", header=True, mode=\"overwrite\")"
   ]
  },
  {
   "cell_type": "code",
   "execution_count": 8,
   "id": "8c05b65e-cde6-441f-8f24-2e4260b5a90e",
   "metadata": {},
   "outputs": [
    {
     "name": "stdout",
     "output_type": "stream",
     "text": [
      "+---------------+------+\n",
      "|Diabetes_binary| count|\n",
      "+---------------+------+\n",
      "|            0.0|218334|\n",
      "|            1.0| 35346|\n",
      "+---------------+------+\n",
      "\n"
     ]
    }
   ],
   "source": [
    "#Step 5: Group by Diabetes\n",
    "df.groupBy(\"Diabetes_binary\").count().show()"
   ]
  },
  {
   "cell_type": "code",
   "execution_count": 9,
   "id": "c84857f8-c47d-44e1-bb6a-596454b1d005",
   "metadata": {},
   "outputs": [
    {
     "name": "stdout",
     "output_type": "stream",
     "text": [
      "+---------------+-----------------+-------------------+------------------+------------------+------------------+------------------+------------------+---------------------+\n",
      "|Diabetes_binary|          avg_BMI|         avg_HighBP|      avg_HighChol|        avg_Smoker|  avg_PhysActivity|        avg_Fruits|       avg_Veggies|avg_HvyAlcoholConsump|\n",
      "+---------------+-----------------+-------------------+------------------+------------------+------------------+------------------+------------------+---------------------+\n",
      "|            0.0|27.80577005871738|0.37660190350563816|0.3842965364991252| 0.431018531241126|0.7769426658239211|0.6421583445546731|0.8203257394633909|  0.06148378172891075|\n",
      "|            1.0|31.94401063769592| 0.7526735698523171|0.6701182594918803|0.5182198834380128|0.6305381089797997|0.5854410682962712|0.7564080801222204|  0.02353873139817801|\n",
      "+---------------+-----------------+-------------------+------------------+------------------+------------------+------------------+------------------+---------------------+\n",
      "\n"
     ]
    }
   ],
   "source": [
    "#Step 6: Average Health Idicators by Diabetes\n",
    "import pyspark.sql.functions as F\n",
    "cols_to_avg = ['BMI','HighBP','HighChol','Smoker','PhysActivity','Fruits','Veggies','HvyAlcoholConsump']\n",
    "agg_exprs = [F.avg(col).alias(f\"avg_{col}\") for col in cols_to_avg]\n",
    "df.groupBy(\"Diabetes_binary\").agg(*agg_exprs).show()\n",
    "\n",
    "summary_by_diabetes = df.groupBy(\"Diabetes_binary\").agg(*agg_exprs)\n",
    "summary_by_diabetes.write.csv(\"Task_1_Outputs/Grouped_Averages_By_Diabetes.csv\", header=True, mode=\"overwrite\")"
   ]
  },
  {
   "cell_type": "code",
   "execution_count": 10,
   "id": "a90cb404-aaef-4cf0-b99b-9e59c6b0c1b8",
   "metadata": {},
   "outputs": [],
   "source": [
    "#Step 7: Export cleaned data for ML or Dashboard\n",
    "import os\n",
    "os.environ['HADOOP_HOME'] = 'F:/hadoop'\n",
    "df.write.csv(\"Task_1_outputs/Processed_diabetes_data.csv\", header=True, mode=\"overwrite\")"
   ]
  },
  {
   "cell_type": "code",
   "execution_count": null,
   "id": "7fdda2fb-6a1d-4401-bda6-a87202438ff5",
   "metadata": {},
   "outputs": [],
   "source": []
  }
 ],
 "metadata": {
  "kernelspec": {
   "display_name": "Python 3 (ipykernel)",
   "language": "python",
   "name": "python3"
  },
  "language_info": {
   "codemirror_mode": {
    "name": "ipython",
    "version": 3
   },
   "file_extension": ".py",
   "mimetype": "text/x-python",
   "name": "python",
   "nbconvert_exporter": "python",
   "pygments_lexer": "ipython3",
   "version": "3.12.5"
  }
 },
 "nbformat": 4,
 "nbformat_minor": 5
}
